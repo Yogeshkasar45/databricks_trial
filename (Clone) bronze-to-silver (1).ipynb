{
 "cells": [
  {
   "cell_type": "code",
   "execution_count": 0,
   "metadata": {
    "application/vnd.databricks.v1+cell": {
     "cellMetadata": {
      "byteLimit": 2048000,
      "rowLimit": 10000
     },
     "inputWidgets": {},
     "nuid": "e0840a4f-6d05-4e52-93ab-7be43ca29a33",
     "showTitle": false,
     "tableResultSettingsMap": {},
     "title": ""
    }
   },
   "outputs": [],
   "source": [
    "\n",
    "\n",
    "%python\n",
    "bronze_df = spark.table(\"yogesh_catalog.pda.bronze_table\")"
   ]
  },
  {
   "cell_type": "code",
   "execution_count": 0,
   "metadata": {
    "application/vnd.databricks.v1+cell": {
     "cellMetadata": {
      "byteLimit": 2048000,
      "rowLimit": 10000
     },
     "inputWidgets": {},
     "nuid": "5a731a1a-f29c-4dbf-add6-eb8a7fa67e08",
     "showTitle": false,
     "tableResultSettingsMap": {},
     "title": ""
    }
   },
   "outputs": [],
   "source": []
  },
  {
   "cell_type": "code",
   "execution_count": 0,
   "metadata": {
    "application/vnd.databricks.v1+cell": {
     "cellMetadata": {
      "byteLimit": 2048000,
      "rowLimit": 10000
     },
     "inputWidgets": {},
     "nuid": "27c9b223-2308-4e89-8657-fb890f0c076d",
     "showTitle": false,
     "tableResultSettingsMap": {},
     "title": ""
    }
   },
   "outputs": [],
   "source": [
    "%python\n",
    "from pyspark.sql import SparkSession\n",
    "from pyspark.sql.functions import *\n",
    "from pyspark.sql.types import *\n",
    "import re\n",
    "from pyspark.sql.types import StructType, StructField, StringType, IntegerType, DateType, DoubleType\n",
    "from datetime import datetime, timedelta"
   ]
  },
  {
   "cell_type": "code",
   "execution_count": 0,
   "metadata": {
    "application/vnd.databricks.v1+cell": {
     "cellMetadata": {
      "byteLimit": 2048000,
      "rowLimit": 10000
     },
     "inputWidgets": {},
     "nuid": "4f82aef6-8718-4937-b0bd-d1a840ba6a4f",
     "showTitle": false,
     "tableResultSettingsMap": {},
     "title": ""
    }
   },
   "outputs": [],
   "source": [
    "%python\n",
    "bronze_df.show(10)\n",
    "bronze_df= bronze_df.withColumn(\"ingestion_time\", current_timestamp())  "
   ]
  },
  {
   "cell_type": "code",
   "execution_count": 0,
   "metadata": {
    "application/vnd.databricks.v1+cell": {
     "cellMetadata": {
      "byteLimit": 2048000,
      "rowLimit": 10000
     },
     "inputWidgets": {},
     "nuid": "05096ee0-47b6-4a6d-b499-7edcc7a11d9c",
     "showTitle": false,
     "tableResultSettingsMap": {},
     "title": ""
    }
   },
   "outputs": [],
   "source": [
    "%python\n",
    "\n",
    "schema = StructType([\n",
    "    StructField(\"Sales_Region\", StringType(), True),\n",
    "    StructField(\"Plant_Id\", StringType(), True),\n",
    "    StructField(\"Sorg\", StringType(), True),\n",
    "    StructField(\"Dch\", IntegerType(), True),\n",
    "    StructField(\"Div\", IntegerType(), True),\n",
    "    StructField(\"Item_Categ\", StringType(), True),\n",
    "    StructField(\"Customer_Grp_Id\", StringType(), True),\n",
    "    StructField(\"Customer_Grp_Name\", StringType(), True),\n",
    "    StructField(\"Order_type\", StringType(), True),\n",
    "    StructField(\"Sales_Order\", IntegerType(), True),\n",
    "    StructField(\"Invoice_No\", IntegerType(), True),\n",
    "    StructField(\"Invoice_Date\", DateType(), True),\n",
    "    StructField(\"State_Name\", StringType(), True),\n",
    "    StructField(\"Sales_Zone\", StringType(), True),\n",
    "    StructField(\"Customer_Id\", IntegerType(), True),\n",
    "    StructField(\"Customer_Name\", StringType(), True),\n",
    "    StructField(\"Address\", StringType(), True),\n",
    "    StructField(\"Product_Id\", IntegerType(), True),\n",
    "    StructField(\"Product_Name\", StringType(), True),\n",
    "    StructField(\"Quantity\", IntegerType(), True),\n",
    "    StructField(\"Basic_Rate\", DoubleType(), True),\n",
    "    StructField(\"Special_Ra\", DoubleType(), True),\n",
    "    StructField(\"Basic_Amt\", DoubleType(), True),\n",
    "    StructField(\"Discount_A\", IntegerType(), True),\n",
    "    StructField(\"Net_Amt_DC\", DoubleType(), True),\n",
    "    StructField(\"D380\", StringType(), True),\n",
    "    StructField(\"Type_Calculations\", StringType(), True),\n",
    "    StructField(\"Product_Family\", StringType(), True),\n",
    "    StructField(\"Product_Type\", StringType(), True),\n",
    "    StructField(\"Product_Category\", StringType(), True),\n",
    "    StructField(\"Quantity_2\", IntegerType(), True),\n",
    "    StructField(\"Per_Coll\", DoubleType(), True),\n",
    "    StructField(\"Number_of_Coll\", DoubleType(), True),\n",
    "    StructField(\"Andris\", StringType(), True),\n",
    "    StructField(\"EWH_Groups\", StringType(), True),\n",
    "    StructField(\"Ecom\", StringType(), True),\n",
    "    StructField(\"ingestion_time\", TimestampType(), True)\n",
    "])\n",
    "\n",
    "# Create DataFrame with the specified schema\n",
    "result_df = spark.createDataFrame([], schema)"
   ]
  },
  {
   "cell_type": "code",
   "execution_count": 0,
   "metadata": {
    "application/vnd.databricks.v1+cell": {
     "cellMetadata": {
      "byteLimit": 2048000,
      "rowLimit": 10000
     },
     "inputWidgets": {},
     "nuid": "52549988-dba4-4d29-9984-bd682acc112b",
     "showTitle": false,
     "tableResultSettingsMap": {},
     "title": ""
    }
   },
   "outputs": [],
   "source": [
    "%python\n",
    "print(len(result_df.columns))"
   ]
  },
  {
   "cell_type": "code",
   "execution_count": 0,
   "metadata": {
    "application/vnd.databricks.v1+cell": {
     "cellMetadata": {
      "byteLimit": 2048000,
      "rowLimit": 10000
     },
     "inputWidgets": {},
     "nuid": "1c98f620-f99a-48b8-b5c3-620b80a5860d",
     "showTitle": false,
     "tableResultSettingsMap": {},
     "title": ""
    }
   },
   "outputs": [],
   "source": [
    "%python\n",
    " \n",
    "# Function to clean column names\n",
    "def clean_column_name(col_name):\n",
    "    cleaned_name = col_name.strip()\n",
    "    cleaned_name = re.sub(r'\\s+', '_', cleaned_name)\n",
    "    cleaned_name = re.sub(r'[^a-zA-Z0-9_]', '', cleaned_name)\n",
    "    return cleaned_name\n",
    " \n",
    "# Function to replace null values\n",
    "def NullValueReplace(df):\n",
    "    for column_name in df.columns:\n",
    "        column_type = df.schema[column_name].dataType\n",
    "        if column_type in (IntegerType(), LongType(), ShortType(), ByteType()):\n",
    "            df = df.withColumn(column_name, when(df[column_name].isNull(), 0).otherwise(df[column_name]))\n",
    "        elif column_type == StringType():\n",
    "            df = df.withColumn(column_name, when(df[column_name].isNull(), \"Other\").otherwise(df[column_name]))\n",
    "        elif column_type == DoubleType():\n",
    "            df = df.withColumn(column_name, when(df[column_name].isNull(), 0.0).otherwise(df[column_name]))\n",
    "    return df\n",
    " \n",
    "# Function to drop unwanted columns\n",
    "def DropUnwantedColumns(df):\n",
    "    columns_to_drop = [\n",
    "        'Product_Fa', 'Material_Description_2', 'EWH_Region_Classification', 'ES_State',\n",
    "        'State_with_Haryana_1_2', 'Solar_Group', 'For_Split', 'Commercial_vs_Domestic',\n",
    "        'Source', 'PF01', 'Weeks'\n",
    "    ]\n",
    "    for column_name in columns_to_drop:\n",
    "        if column_name in df.columns:\n",
    "            df = df.drop(column_name)\n",
    "    return df\n",
    "\n",
    " \n",
    "# Load and process data\n",
    "threshold_time = datetime.now() - timedelta(hours=24)\n",
    "result_df = None  # Initialize an empty DataFrame\n",
    " \n",
    "# Clean column names  \n",
    "df=bronze_df\n",
    "recent_df = df.filter(col(\"ingestion_time\") > threshold_time)\n",
    "current_columns = df.columns\n",
    "cleaned_columns = [clean_column_name(col_name) for col_name in current_columns]\n",
    "df = df.toDF(*cleaned_columns)\n",
    " \n",
    "# Drop unwanted columns\n",
    "df = DropUnwantedColumns(df)\n",
    " \n",
    "# Replace null values\n",
    "df = NullValueReplace(df)\n",
    " \n",
    "# Standardize schema\n",
    "df = df.withColumnRenamed('REF', 'Sales_Region') \\\n",
    "    .withColumnRenamed('Sales_Orde', 'Sales_Order') \\\n",
    "    .withColumnRenamed('Invoice_Da', 'Invoice_Date') \\\n",
    "    .withColumnRenamed('Plant', 'Plant_Id') \\\n",
    "    .withColumnRenamed('Cust_Grp', 'Customer_Grp_Id') \\\n",
    "    .withColumnRenamed('Customer_G', 'Customer_Grp_Name') \\\n",
    "    .withColumnRenamed('Sold_To', 'Customer_Id') \\\n",
    "    .withColumnRenamed('Sold_to_Party_Name', 'Customer_Name') \\\n",
    "    .withColumnRenamed('Sold_To_City', 'Address') \\\n",
    "    .withColumnRenamed('Material', 'Product_Id') \\\n",
    "    .withColumnRenamed('Material_Description', 'Product_Name') \\\n",
    "    .withColumnRenamed('Type', 'Product_Type') \\\n",
    "    .withColumnRenamed('Solar_Type', 'Product_Category')\n",
    " \n",
    "        # Initialize or union the DataFrame\n",
    "if result_df is None:\n",
    "    result_df = df\n",
    "else:\n",
    "    result_df = result_df.unionByName(df)\n",
    " \n",
    " \n",
    " \n",
    "# Show the final DataFrame\n",
    "if result_df:\n",
    "    result_df.show()\n",
    " \n",
    " "
   ]
  },
  {
   "cell_type": "code",
   "execution_count": 0,
   "metadata": {
    "application/vnd.databricks.v1+cell": {
     "cellMetadata": {
      "byteLimit": 2048000,
      "rowLimit": 10000
     },
     "inputWidgets": {},
     "nuid": "aab66cad-e8a4-45d8-9057-b7232e56f2df",
     "showTitle": false,
     "tableResultSettingsMap": {},
     "title": ""
    }
   },
   "outputs": [],
   "source": [
    "%python\n",
    "result_df.count()"
   ]
  },
  {
   "cell_type": "code",
   "execution_count": 0,
   "metadata": {
    "application/vnd.databricks.v1+cell": {
     "cellMetadata": {
      "byteLimit": 2048000,
      "rowLimit": 10000
     },
     "inputWidgets": {},
     "nuid": "bd0890aa-b92f-46db-a318-f3878d6bd456",
     "showTitle": false,
     "tableResultSettingsMap": {},
     "title": ""
    }
   },
   "outputs": [],
   "source": [
    "%python\n",
    "df_single_partition = result_df.repartition(1)"
   ]
  },
  {
   "cell_type": "code",
   "execution_count": 0,
   "metadata": {
    "application/vnd.databricks.v1+cell": {
     "cellMetadata": {
      "byteLimit": 2048000,
      "rowLimit": 10000
     },
     "inputWidgets": {},
     "nuid": "c2418ef4-52b0-4b02-a15f-af685769b014",
     "showTitle": false,
     "tableResultSettingsMap": {},
     "title": ""
    }
   },
   "outputs": [],
   "source": [
    "%python\n",
    "result_df.write.format(\"delta\").mode(\"overwrite\").saveAsTable(\"yogesh_catalog.pda.silver_table\")\n"
   ]
  },
  {
   "cell_type": "code",
   "execution_count": 0,
   "metadata": {
    "application/vnd.databricks.v1+cell": {
     "cellMetadata": {
      "byteLimit": 2048000,
      "rowLimit": 10000
     },
     "inputWidgets": {},
     "nuid": "e6b5dd96-703d-4edf-9e87-cbebd4bd68de",
     "showTitle": false,
     "tableResultSettingsMap": {},
     "title": ""
    }
   },
   "outputs": [],
   "source": [
    "DESCRIBE TABLE EXTENDED yogesh_catalog.pda.silver_table;"
   ]
  },
  {
   "cell_type": "code",
   "execution_count": 0,
   "metadata": {
    "application/vnd.databricks.v1+cell": {
     "cellMetadata": {
      "byteLimit": 2048000,
      "rowLimit": 10000
     },
     "inputWidgets": {},
     "nuid": "d5477e3d-85e2-4dc3-b0b6-f6ee7609e0ec",
     "showTitle": false,
     "tableResultSettingsMap": {},
     "title": ""
    }
   },
   "outputs": [],
   "source": [
    "%python\n",
    "result_df.write.format(\"delta\").mode(\"overwrite\").save(\"abfss://pda@yogeshdatalakegen2.dfs.core.windows.net/silver/csv/jan19/\")\n"
   ]
  }
 ],
 "metadata": {
  "application/vnd.databricks.v1+notebook": {
   "computePreferences": null,
   "dashboards": [],
   "environmentMetadata": {
    "base_environment": "",
    "environment_version": "2"
   },
   "inputWidgetPreferences": null,
   "language": "sql",
   "notebookMetadata": {
    "pythonIndentUnit": 4
   },
   "notebookName": "(Clone) bronze-to-silver (1)",
   "widgets": {}
  },
  "language_info": {
   "name": "sql"
  }
 },
 "nbformat": 4,
 "nbformat_minor": 0
}
